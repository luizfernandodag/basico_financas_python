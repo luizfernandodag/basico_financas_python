{
 "cells": [
  {
   "cell_type": "code",
   "execution_count": null,
   "id": "1cdbb751-c6aa-4f49-afa6-924a166e9de7",
   "metadata": {},
   "outputs": [],
   "source": [
    "!pip install yfinance"
   ]
  },
  {
   "cell_type": "markdown",
   "id": "9dec2f87-6092-459f-bcad-fa65696174a0",
   "metadata": {},
   "source": [
    "# Projeto 1"
   ]
  },
  {
   "cell_type": "code",
   "execution_count": null,
   "id": "29a095b5-717f-41a8-92f3-97d62cc76dbe",
   "metadata": {},
   "outputs": [],
   "source": [
    "import pandas as pd\n",
    "import matplotlib.pyplot as plt\n",
    "import matplotlib.ticker as mtick\n",
    "import yfinance as yf"
   ]
  },
  {
   "cell_type": "code",
   "execution_count": null,
   "id": "c0c18089-20a5-4c55-b7e5-3965f0538f71",
   "metadata": {},
   "outputs": [],
   "source": [
    "lista_tickers = [\"ITUB4.SA\", 'BBAS3.SA', \"SANB4.SA\", \"BBDC4.SA\", \"^BVSP\"]"
   ]
  },
  {
   "cell_type": "code",
   "execution_count": null,
   "id": "886d953e-6bb2-473e-824f-aac98cf38ff5",
   "metadata": {},
   "outputs": [],
   "source": [
    "dados_bancarios = yf.download(lista_tickers, start = \"2010-01-01\", end = \"2022-04-30\")\n",
    "\n",
    "dados_bancarios = dados_bancarios[\"Adj Close\"]\n",
    "\n",
    "dados_bancarios"
   ]
  },
  {
   "cell_type": "code",
   "execution_count": null,
   "id": "ec89f175-2afc-4c2d-bf42-e9c853bc6bf5",
   "metadata": {},
   "outputs": [],
   "source": [
    "lucro_bancos = pd.read_excel(\"lucro_bancos_2010_2022.xlsx\")\n",
    "\n",
    "lucro_bancos"
   ]
  },
  {
   "cell_type": "markdown",
   "id": "7b968bf3-d589-4d49-9eea-b420833c7fea",
   "metadata": {},
   "source": [
    "### Conceitos importantes"
   ]
  },
  {
   "cell_type": "code",
   "execution_count": null,
   "id": "5ab60971-638b-42c4-b77e-3a6afb944df3",
   "metadata": {},
   "outputs": [],
   "source": [
    "data_frame_com_colunas_selecionadas = dados_bancarios[[\"BBDC4.SA\", \"ITUB4.SA\"]]"
   ]
  },
  {
   "cell_type": "code",
   "execution_count": null,
   "id": "9074db4b-5312-4a5b-a05f-7099be5cc90a",
   "metadata": {},
   "outputs": [],
   "source": [
    "dados_2015 = dados_bancarios[dados_bancarios.index > \"2015-01-01\"]"
   ]
  },
  {
   "cell_type": "code",
   "execution_count": null,
   "id": "36c9a6df-7076-4e88-81ed-456b08935462",
   "metadata": {},
   "outputs": [],
   "source": [
    "cotacao_maior_que_15 = dados_bancarios[dados_bancarios[\"ITUB4.SA\"] > 15]"
   ]
  },
  {
   "cell_type": "markdown",
   "id": "35921877-57e1-4d4e-b240-f3eaa9029da7",
   "metadata": {},
   "source": [
    "### Voltando ao nosso projeto"
   ]
  },
  {
   "cell_type": "code",
   "execution_count": null,
   "id": "49467a17-c6df-4424-bac3-64c01adcb7c7",
   "metadata": {},
   "outputs": [],
   "source": [
    "itau = dados_bancarios[\"ITUB4.SA\"]\n",
    "bradesco = dados_bancarios[\"BBDC4.SA\"]\n",
    "banco_do_brasil = dados_bancarios[\"BBAS3.SA\"]\n",
    "santander = dados_bancarios[\"SANB4.SA\"]\n",
    "dados_mercado = dados_bancarios[\"^BVSP\"]\n",
    "\n",
    "dados_mercado"
   ]
  },
  {
   "cell_type": "code",
   "execution_count": null,
   "id": "ef7462a5-335c-4fde-89c1-adc62b2df8ef",
   "metadata": {},
   "outputs": [],
   "source": [
    "def retorno(lista_cotacoes):\n",
    "\n",
    "    retorno = lista_cotacoes[-1]/lista_cotacoes[0] - 1\n",
    "\n",
    "    return retorno"
   ]
  },
  {
   "cell_type": "code",
   "execution_count": null,
   "id": "e7c3490c-d7b7-479e-b3d2-6a92b1769f60",
   "metadata": {},
   "outputs": [],
   "source": [
    "retorno_itau = retorno(itau)\n",
    "retorno_bradesco = retorno(bradesco)\n",
    "retorno_banco_brasil = retorno(banco_do_brasil)\n",
    "retorno_santander = retorno(santander)\n",
    "retorno_dados_mercado = retorno(dados_mercado)\n",
    "\n",
    "retorno_dados_mercado"
   ]
  },
  {
   "cell_type": "code",
   "execution_count": null,
   "id": "39d62282-0b6a-4255-9f5f-713bfba42f0f",
   "metadata": {},
   "outputs": [],
   "source": [
    "df_retornos = pd.DataFrame(\n",
    "\n",
    "    data = {\"retornos\": [retorno_itau, retorno_bradesco, retorno_banco_brasil, retorno_santander, retorno_dados_mercado]},\n",
    "    index = [\"Itau\", \"Bradesco\", \"Banco do Brasil\", \"Santander\", \"Ibovespa\"]\n",
    "    \n",
    ")\n",
    "\n",
    "df_retornos"
   ]
  },
  {
   "cell_type": "code",
   "execution_count": null,
   "id": "f6c7d652-61f1-41d0-895c-e9cf202eca4a",
   "metadata": {},
   "outputs": [],
   "source": [
    "df_retornos[\"retornos\"] = df_retornos[\"retornos\"] * 100\n",
    "\n",
    "df_retornos"
   ]
  },
  {
   "cell_type": "code",
   "execution_count": null,
   "id": "c48ff92a-5416-4d5e-8874-4d1d74c5e36e",
   "metadata": {},
   "outputs": [],
   "source": [
    "df_retornos = df_retornos.sort_values(by = \"retornos\", ascending = False)\n",
    "\n",
    "df_retornos"
   ]
  },
  {
   "cell_type": "code",
   "execution_count": null,
   "id": "71d93b07-9c64-44ca-81fa-c73e52e3325d",
   "metadata": {},
   "outputs": [],
   "source": [
    "!pip install mplcyberpunk"
   ]
  },
  {
   "cell_type": "code",
   "execution_count": null,
   "id": "90866131-3fd4-4a56-a21c-484edf6f828c",
   "metadata": {},
   "outputs": [],
   "source": [
    "import mplcyberpunk"
   ]
  },
  {
   "cell_type": "code",
   "execution_count": null,
   "id": "131f2dae-4194-4de1-986d-caec2a94c3c6",
   "metadata": {},
   "outputs": [],
   "source": [
    "plt.style.use(\"cyberpunk\")"
   ]
  },
  {
   "cell_type": "code",
   "execution_count": null,
   "id": "ffeab6e3-4540-4726-ada8-1d91f1a66f2e",
   "metadata": {},
   "outputs": [],
   "source": [
    "fig, ax = plt.subplots()\n",
    "\n",
    "ax.bar(df_retornos.index, df_retornos[\"retornos\"])\n",
    "ax.yaxis.set_major_formatter(mtick.PercentFormatter())\n",
    "\n",
    "plt.xticks(fontsize = 9)\n",
    "\n",
    "plt.show()"
   ]
  },
  {
   "cell_type": "code",
   "execution_count": null,
   "id": "3c5f199b-3b3a-422c-a0ff-ffe1d6b212d8",
   "metadata": {},
   "outputs": [],
   "source": [
    "lucro_bancos"
   ]
  },
  {
   "cell_type": "code",
   "execution_count": null,
   "id": "c1742b0d-f256-4ba2-a239-e650ffd11a94",
   "metadata": {},
   "outputs": [],
   "source": [
    "lucro_bancos = lucro_bancos.set_index(\"data\")\n",
    "\n",
    "lucro_bancos"
   ]
  },
  {
   "cell_type": "code",
   "execution_count": null,
   "id": "42f2da64-1fac-42ac-8266-045eab3ad37d",
   "metadata": {},
   "outputs": [],
   "source": [
    "var_lucro_bancos = lucro_bancos.iloc[-1]/lucro_bancos.iloc[0] - 1\n",
    "\n",
    "var_lucro_bancos"
   ]
  },
  {
   "cell_type": "code",
   "execution_count": null,
   "id": "ee100b9a-1ec7-46ad-8306-026d7c78ffb3",
   "metadata": {},
   "outputs": [],
   "source": [
    "var_lucro_bancos = var_lucro_bancos * 100"
   ]
  },
  {
   "cell_type": "code",
   "execution_count": null,
   "id": "5fc12653-4865-46e8-88ea-9b8c3fae2d85",
   "metadata": {},
   "outputs": [],
   "source": [
    "var_lucro_bancos = var_lucro_bancos.sort_values(ascending = False)"
   ]
  },
  {
   "cell_type": "code",
   "execution_count": null,
   "id": "82087529-ae53-42b0-9823-33dbf0935096",
   "metadata": {},
   "outputs": [],
   "source": [
    "fig, ax = plt.subplots()\n",
    "\n",
    "ax.bar(var_lucro_bancos.index, var_lucro_bancos.values)\n",
    "ax.yaxis.set_major_formatter(mtick.PercentFormatter())\n",
    "\n",
    "plt.xticks(fontsize = 9)\n",
    "\n",
    "plt.show()"
   ]
  },
  {
   "cell_type": "code",
   "execution_count": null,
   "id": "a2852874-6870-4a57-84aa-97006b87a2e0",
   "metadata": {},
   "outputs": [],
   "source": [
    "fig, ax = plt.subplots()\n",
    "\n",
    "ax.bar(df_retornos.index, df_retornos[\"retornos\"])\n",
    "ax.yaxis.set_major_formatter(mtick.PercentFormatter())\n",
    "\n",
    "plt.xticks(fontsize = 9)\n",
    "\n",
    "plt.show()"
   ]
  },
  {
   "cell_type": "markdown",
   "id": "6704f11a-8844-4ccc-a9c9-c1476cfb1430",
   "metadata": {},
   "source": [
    "# Projeto 2"
   ]
  },
  {
   "cell_type": "code",
   "execution_count": null,
   "id": "22557dc1-7e70-4c72-8ae3-a5fd3c6ccc46",
   "metadata": {},
   "outputs": [],
   "source": [
    "import pandas as pd\n",
    "import matplotlib.pyplot as plt\n",
    "import mplcyberpunk\n",
    "import yfinance as yf\n",
    "plt.style.use(\"cyberpunk\")"
   ]
  },
  {
   "cell_type": "code",
   "execution_count": null,
   "id": "621d1f9d-bcde-4bdb-a0ad-0cc4c3a568e4",
   "metadata": {},
   "outputs": [],
   "source": [
    "itau = yf.download(\"ITUB4.SA\", start = \"2010-01-01\", end = \"2022-04-30\")[\"Adj Close\"]\n",
    "bradesco = yf.download(\"BBDC4.SA\", start = \"2010-01-01\", end = \"2022-04-30\")[\"Adj Close\"]"
   ]
  },
  {
   "cell_type": "code",
   "execution_count": null,
   "id": "c8020c09-d5da-43ab-8908-1d2d9395c48a",
   "metadata": {},
   "outputs": [],
   "source": [
    "def resample_periodo(dado, periodo):\n",
    "\n",
    "    dado_periodo_novo = dado.resample(f\"{periodo}\").last()\n",
    "    dado_periodo_novo = dado_periodo_novo.pct_change()\n",
    "    dado_periodo_novo = dado_periodo_novo.dropna()\n",
    "\n",
    "    return dado_periodo_novo\n",
    "\n"
   ]
  },
  {
   "cell_type": "code",
   "execution_count": null,
   "id": "c3a8f75d-9990-4d19-b757-a3f791e8b650",
   "metadata": {},
   "outputs": [],
   "source": [
    "def long_short(long, short, periodo):\n",
    "\n",
    "    var_long = resample_periodo(long, periodo)\n",
    "    var_short = resample_periodo(short, periodo)\n",
    "\n",
    "    outperform = (var_long - var_short) * 100\n",
    "    print(outperform)\n",
    "    plt.plot(outperform)"
   ]
  },
  {
   "cell_type": "code",
   "execution_count": null,
   "id": "aa3bf840-9350-4de3-a9e2-8221139050af",
   "metadata": {},
   "outputs": [],
   "source": [
    "long_short(itau, bradesco, \"Y\")"
   ]
  },
  {
   "cell_type": "code",
   "execution_count": null,
   "id": "ad4ad2d9-9ddd-4cfc-b210-a63a70459dde",
   "metadata": {},
   "outputs": [],
   "source": []
  },
  {
   "cell_type": "code",
   "execution_count": null,
   "id": "32651805-ee6f-4463-94fe-1d0cbc3289a7",
   "metadata": {},
   "outputs": [],
   "source": []
  },
  {
   "cell_type": "code",
   "execution_count": null,
   "id": "dd0bc8a4-efb1-4427-8e0c-c81b2642f1bc",
   "metadata": {},
   "outputs": [],
   "source": []
  },
  {
   "cell_type": "code",
   "execution_count": null,
   "id": "a87fb406-a9bb-4853-9b5c-6f81008f921d",
   "metadata": {},
   "outputs": [],
   "source": []
  },
  {
   "cell_type": "code",
   "execution_count": null,
   "id": "b56d745f-7b16-43de-beac-bcaf7257f1f8",
   "metadata": {},
   "outputs": [],
   "source": []
  },
  {
   "cell_type": "code",
   "execution_count": null,
   "id": "7487742a-4103-4874-84be-b2a2f5eae068",
   "metadata": {},
   "outputs": [],
   "source": []
  },
  {
   "cell_type": "code",
   "execution_count": null,
   "id": "f4c91112-dcf5-46c6-9023-b59224126298",
   "metadata": {},
   "outputs": [],
   "source": []
  },
  {
   "cell_type": "code",
   "execution_count": null,
   "id": "6079bac2-8622-493b-9215-95f7a2c76840",
   "metadata": {},
   "outputs": [],
   "source": []
  },
  {
   "cell_type": "code",
   "execution_count": null,
   "id": "1bd8d26f-f9f4-4f6e-98c2-d1962ad88f58",
   "metadata": {},
   "outputs": [],
   "source": []
  },
  {
   "cell_type": "code",
   "execution_count": null,
   "id": "8087661b-68ed-4d5a-931f-e869472266dd",
   "metadata": {},
   "outputs": [],
   "source": []
  },
  {
   "cell_type": "code",
   "execution_count": null,
   "id": "5bfacdda-3fba-4f6b-bc2a-aeaae6010543",
   "metadata": {},
   "outputs": [],
   "source": []
  }
 ],
 "metadata": {
  "kernelspec": {
   "display_name": "Python 3 (ipykernel)",
   "language": "python",
   "name": "python3"
  },
  "language_info": {
   "codemirror_mode": {
    "name": "ipython",
    "version": 3
   },
   "file_extension": ".py",
   "mimetype": "text/x-python",
   "name": "python",
   "nbconvert_exporter": "python",
   "pygments_lexer": "ipython3",
   "version": "3.11.7"
  },
  "widgets": {
   "application/vnd.jupyter.widget-state+json": {
    "state": {},
    "version_major": 2,
    "version_minor": 0
   }
  }
 },
 "nbformat": 4,
 "nbformat_minor": 5
}
